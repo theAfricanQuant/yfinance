{
 "cells": [
  {
   "cell_type": "code",
   "execution_count": 3,
   "id": "7502381e",
   "metadata": {},
   "outputs": [],
   "source": [
    "import yfinance as yf\n",
    "import pandas as pd"
   ]
  },
  {
   "cell_type": "code",
   "execution_count": 4,
   "id": "e4440f7b",
   "metadata": {},
   "outputs": [
    {
     "name": "stdout",
     "output_type": "stream",
     "text": [
      "YF.download() has changed argument auto_adjust default to True\n"
     ]
    },
    {
     "name": "stderr",
     "output_type": "stream",
     "text": [
      "[*********************100%***********************]  1 of 1 completed\n"
     ]
    }
   ],
   "source": [
    "aapl = yf.download(\"AAPL\", start=\"2020-01-01\", end=\"2020-12-31\", interval=\"1d\")"
   ]
  },
  {
   "cell_type": "code",
   "execution_count": 5,
   "id": "c50b0061",
   "metadata": {},
   "outputs": [
    {
     "data": {
      "application/vnd.microsoft.datawrangler.viewer.v0+json": {
       "columns": [
        {
         "name": "Date",
         "rawType": "datetime64[ns]",
         "type": "datetime"
        },
        {
         "name": "Close",
         "rawType": "float64",
         "type": "float"
        },
        {
         "name": "High",
         "rawType": "float64",
         "type": "float"
        },
        {
         "name": "Low",
         "rawType": "float64",
         "type": "float"
        },
        {
         "name": "Open",
         "rawType": "float64",
         "type": "float"
        },
        {
         "name": "Volume",
         "rawType": "int64",
         "type": "integer"
        }
       ],
       "conversionMethod": "pd.DataFrame",
       "ref": "bdf2e6f1-28c1-48ef-ac64-303eca6e7209",
       "rows": [
        [
         "2020-01-02 00:00:00",
         "72.716064453125",
         "72.77659055848162",
         "71.4668047519516",
         "71.72101143907315",
         "135480400"
        ],
        [
         "2020-01-03 00:00:00",
         "72.00911712646484",
         "72.77174458511139",
         "71.7839617851537",
         "71.94132818321717",
         "146322800"
        ],
        [
         "2020-01-06 00:00:00",
         "72.58290100097656",
         "72.62163859417052",
         "70.87606782262263",
         "71.12785848416316",
         "118387200"
        ],
        [
         "2020-01-07 00:00:00",
         "72.24156188964844",
         "72.84923913180799",
         "72.0212459184403",
         "72.59260896500349",
         "108872000"
        ],
        [
         "2020-01-08 00:00:00",
         "73.40363311767578",
         "73.70626361557562",
         "71.94374389134458",
         "71.94374389134458",
         "132079200"
        ],
        [
         "2020-01-09 00:00:00",
         "74.96281433105469",
         "75.15649496744561",
         "74.13239770457567",
         "74.38418105419532",
         "170108400"
        ],
        [
         "2020-01-10 00:00:00",
         "75.13225555419922",
         "75.69878635468899",
         "74.62868165074606",
         "75.19762847110803",
         "140644800"
        ],
        [
         "2020-01-13 00:00:00",
         "76.7374267578125",
         "76.76406209011934",
         "75.33080045122755",
         "75.44943665950792",
         "121532000"
        ],
        [
         "2020-01-14 00:00:00",
         "75.70120239257812",
         "76.88509646087522",
         "75.57773417210761",
         "76.67446681398555",
         "161954400"
        ],
        [
         "2020-01-15 00:00:00",
         "75.37680053710938",
         "76.38395596192076",
         "74.94343149157285",
         "75.50027617412253",
         "121923600"
        ],
        [
         "2020-01-16 00:00:00",
         "76.32101440429688",
         "76.4323877854954",
         "75.55838676505513",
         "75.92154348740286",
         "108829200"
        ],
        [
         "2020-01-17 00:00:00",
         "77.16595458984375",
         "77.16837061022176",
         "76.26290232469962",
         "76.57037231867773",
         "137816400"
        ],
        [
         "2020-01-21 00:00:00",
         "76.64299011230469",
         "77.23614144709862",
         "76.50498883390406",
         "76.7930936550816",
         "110843200"
        ],
        [
         "2020-01-22 00:00:00",
         "76.91657257080078",
         "77.47098633963294",
         "76.82214830621916",
         "77.12961824131806",
         "101832400"
        ],
        [
         "2020-01-23 00:00:00",
         "77.2869873046875",
         "77.3668785027068",
         "76.42024944843635",
         "76.96983114393875",
         "104472000"
        ],
        [
         "2020-01-24 00:00:00",
         "77.06426239013672",
         "78.2796239983564",
         "76.87299781703734",
         "77.53394558679635",
         "146537600"
        ],
        [
         "2020-01-27 00:00:00",
         "74.79817199707031",
         "75.48090092368226",
         "73.81280512269632",
         "75.06690438729518",
         "161940000"
        ],
        [
         "2020-01-28 00:00:00",
         "76.91415405273438",
         "77.08604612277858",
         "75.58257973802782",
         "75.68184343719155",
         "162234000"
        ],
        [
         "2020-01-29 00:00:00",
         "78.52415466308594",
         "79.37394362780475",
         "77.80752757594179",
         "78.55078999397739",
         "216229200"
        ],
        [
         "2020-01-30 00:00:00",
         "78.41036224365234",
         "78.46362551493233",
         "77.17078871761717",
         "77.60415772537527",
         "126743200"
        ],
        [
         "2020-01-31 00:00:00",
         "74.93375396728516",
         "78.1222655759737",
         "74.63838622980492",
         "77.69858276990855",
         "199588400"
        ],
        [
         "2020-02-03 00:00:00",
         "74.72796630859375",
         "75.89732764326911",
         "73.16881293673191",
         "73.67238698147514",
         "173788400"
        ],
        [
         "2020-02-04 00:00:00",
         "77.19500732421875",
         "77.3862719133486",
         "75.93122176752728",
         "76.33795548064964",
         "136616400"
        ],
        [
         "2020-02-05 00:00:00",
         "77.82447814941406",
         "78.62584328517734",
         "77.21921702642419",
         "78.32562874403418",
         "118826800"
        ],
        [
         "2020-02-06 00:00:00",
         "78.73477935791016",
         "78.73720276650342",
         "77.53636686633509",
         "78.09562750675829",
         "105425600"
        ],
        [
         "2020-02-07 00:00:00",
         "77.6645736694336",
         "78.48240085764334",
         "77.1719355094332",
         "78.23244174012544",
         "117684000"
        ],
        [
         "2020-02-10 00:00:00",
         "78.033447265625",
         "78.033447265625",
         "76.1648229834898",
         "76.24490381310511",
         "109348800"
        ],
        [
         "2020-02-11 00:00:00",
         "77.56263732910156",
         "78.60373238920275",
         "77.34422769426291",
         "78.53093164624849",
         "94323200"
        ],
        [
         "2020-02-12 00:00:00",
         "79.40459442138672",
         "79.40944533661985",
         "78.01404068842541",
         "78.01404068842541",
         "113730400"
        ],
        [
         "2020-02-13 00:00:00",
         "78.83912658691406",
         "79.16674472243865",
         "78.47025716819051",
         "78.67410664216737",
         "94747600"
        ],
        [
         "2020-02-14 00:00:00",
         "78.8585433959961",
         "79.10850246780329",
         "78.34891601878451",
         "78.80757547409223",
         "80113600"
        ],
        [
         "2020-02-18 00:00:00",
         "77.41460418701172",
         "77.5966134445047",
         "76.34923977828454",
         "76.5312490357775",
         "152531200"
        ],
        [
         "2020-02-19 00:00:00",
         "78.53579711914062",
         "78.76634519119376",
         "77.65730009675248",
         "77.65730009675248",
         "93984000"
        ],
        [
         "2020-02-20 00:00:00",
         "77.7300796508789",
         "78.78573476731503",
         "77.222881436687",
         "78.29552586031969",
         "100566000"
        ],
        [
         "2020-02-21 00:00:00",
         "75.97066497802734",
         "77.76649566805042",
         "75.35183643347615",
         "77.32238890983989",
         "129554000"
        ],
        [
         "2020-02-24 00:00:00",
         "72.36202239990234",
         "73.81809639904387",
         "70.19004979476811",
         "72.13876186738017",
         "222195200"
        ],
        [
         "2020-02-25 00:00:00",
         "69.91096496582031",
         "73.4176795737371",
         "69.43774534651452",
         "73.03425000192122",
         "230673600"
        ],
        [
         "2020-02-26 00:00:00",
         "71.02001190185547",
         "72.28922581008212",
         "69.52753744829661",
         "69.53481752247102",
         "198054800"
        ],
        [
         "2020-02-27 00:00:00",
         "66.37757110595703",
         "69.4062083168437",
         "66.2416714304022",
         "68.21708245275049",
         "320605600"
        ],
        [
         "2020-02-28 00:00:00",
         "66.33873748779297",
         "67.56427105877654",
         "62.21562305087625",
         "62.431610947009084",
         "426510000"
        ],
        [
         "2020-03-02 00:00:00",
         "72.51492309570312",
         "73.15317015362184",
         "67.39682304876307",
         "68.50343887480543",
         "341397200"
        ],
        [
         "2020-03-03 00:00:00",
         "70.2118911743164",
         "73.77441717355254",
         "69.35765634090362",
         "73.69433636090781",
         "319475600"
        ],
        [
         "2020-03-04 00:00:00",
         "73.46864318847656",
         "73.6288122283086",
         "71.13650139150472",
         "71.93976834476976",
         "219178400"
        ],
        [
         "2020-03-05 00:00:00",
         "71.0855484008789",
         "72.69450423193115",
         "70.7191006767236",
         "71.71650798671432",
         "187572800"
        ],
        [
         "2020-03-06 00:00:00",
         "70.14151000976562",
         "70.57590748684923",
         "68.24861680086957",
         "68.43547696188391",
         "226176800"
        ],
        [
         "2020-03-09 00:00:00",
         "64.59388732910156",
         "67.48661751740467",
         "63.824591466108316",
         "64.00660075736148",
         "286744800"
        ],
        [
         "2020-03-10 00:00:00",
         "69.24600982666016",
         "69.51295814947161",
         "65.37042674804029",
         "67.25604690546521",
         "285290000"
        ],
        [
         "2020-03-11 00:00:00",
         "66.8410873413086",
         "68.24620108036899",
         "65.97472137640763",
         "67.31674360006403",
         "255598800"
        ],
        [
         "2020-03-12 00:00:00",
         "60.24021530151367",
         "65.52333888472222",
         "60.18440016078189",
         "62.111272274536645",
         "418474000"
        ],
        [
         "2020-03-13 00:00:00",
         "67.4574966430664",
         "67.93072375869788",
         "61.38566570157223",
         "64.28325788918951",
         "370732000"
        ]
       ],
       "shape": {
        "columns": 5,
        "rows": 252
       }
      },
      "text/html": [
       "<div>\n",
       "<style scoped>\n",
       "    .dataframe tbody tr th:only-of-type {\n",
       "        vertical-align: middle;\n",
       "    }\n",
       "\n",
       "    .dataframe tbody tr th {\n",
       "        vertical-align: top;\n",
       "    }\n",
       "\n",
       "    .dataframe thead th {\n",
       "        text-align: right;\n",
       "    }\n",
       "</style>\n",
       "<table border=\"1\" class=\"dataframe\">\n",
       "  <thead>\n",
       "    <tr style=\"text-align: right;\">\n",
       "      <th>Price</th>\n",
       "      <th>Close</th>\n",
       "      <th>High</th>\n",
       "      <th>Low</th>\n",
       "      <th>Open</th>\n",
       "      <th>Volume</th>\n",
       "    </tr>\n",
       "    <tr>\n",
       "      <th>Date</th>\n",
       "      <th></th>\n",
       "      <th></th>\n",
       "      <th></th>\n",
       "      <th></th>\n",
       "      <th></th>\n",
       "    </tr>\n",
       "  </thead>\n",
       "  <tbody>\n",
       "    <tr>\n",
       "      <th>2020-01-02</th>\n",
       "      <td>72.716064</td>\n",
       "      <td>72.776591</td>\n",
       "      <td>71.466805</td>\n",
       "      <td>71.721011</td>\n",
       "      <td>135480400</td>\n",
       "    </tr>\n",
       "    <tr>\n",
       "      <th>2020-01-03</th>\n",
       "      <td>72.009117</td>\n",
       "      <td>72.771745</td>\n",
       "      <td>71.783962</td>\n",
       "      <td>71.941328</td>\n",
       "      <td>146322800</td>\n",
       "    </tr>\n",
       "    <tr>\n",
       "      <th>2020-01-06</th>\n",
       "      <td>72.582901</td>\n",
       "      <td>72.621639</td>\n",
       "      <td>70.876068</td>\n",
       "      <td>71.127858</td>\n",
       "      <td>118387200</td>\n",
       "    </tr>\n",
       "    <tr>\n",
       "      <th>2020-01-07</th>\n",
       "      <td>72.241562</td>\n",
       "      <td>72.849239</td>\n",
       "      <td>72.021246</td>\n",
       "      <td>72.592609</td>\n",
       "      <td>108872000</td>\n",
       "    </tr>\n",
       "    <tr>\n",
       "      <th>2020-01-08</th>\n",
       "      <td>73.403633</td>\n",
       "      <td>73.706264</td>\n",
       "      <td>71.943744</td>\n",
       "      <td>71.943744</td>\n",
       "      <td>132079200</td>\n",
       "    </tr>\n",
       "    <tr>\n",
       "      <th>...</th>\n",
       "      <td>...</td>\n",
       "      <td>...</td>\n",
       "      <td>...</td>\n",
       "      <td>...</td>\n",
       "      <td>...</td>\n",
       "    </tr>\n",
       "    <tr>\n",
       "      <th>2020-12-23</th>\n",
       "      <td>127.919250</td>\n",
       "      <td>129.355105</td>\n",
       "      <td>127.743422</td>\n",
       "      <td>129.091385</td>\n",
       "      <td>88223700</td>\n",
       "    </tr>\n",
       "    <tr>\n",
       "      <th>2020-12-24</th>\n",
       "      <td>128.905807</td>\n",
       "      <td>130.361217</td>\n",
       "      <td>128.056013</td>\n",
       "      <td>128.270906</td>\n",
       "      <td>54930100</td>\n",
       "    </tr>\n",
       "    <tr>\n",
       "      <th>2020-12-28</th>\n",
       "      <td>133.516220</td>\n",
       "      <td>134.151122</td>\n",
       "      <td>130.410048</td>\n",
       "      <td>130.878914</td>\n",
       "      <td>124486200</td>\n",
       "    </tr>\n",
       "    <tr>\n",
       "      <th>2020-12-29</th>\n",
       "      <td>131.738449</td>\n",
       "      <td>135.567429</td>\n",
       "      <td>131.220756</td>\n",
       "      <td>134.844620</td>\n",
       "      <td>121047300</td>\n",
       "    </tr>\n",
       "    <tr>\n",
       "      <th>2020-12-30</th>\n",
       "      <td>130.615158</td>\n",
       "      <td>132.832455</td>\n",
       "      <td>130.302581</td>\n",
       "      <td>132.431971</td>\n",
       "      <td>96452100</td>\n",
       "    </tr>\n",
       "  </tbody>\n",
       "</table>\n",
       "<p>252 rows × 5 columns</p>\n",
       "</div>"
      ],
      "text/plain": [
       "Price            Close        High         Low        Open     Volume\n",
       "Date                                                                 \n",
       "2020-01-02   72.716064   72.776591   71.466805   71.721011  135480400\n",
       "2020-01-03   72.009117   72.771745   71.783962   71.941328  146322800\n",
       "2020-01-06   72.582901   72.621639   70.876068   71.127858  118387200\n",
       "2020-01-07   72.241562   72.849239   72.021246   72.592609  108872000\n",
       "2020-01-08   73.403633   73.706264   71.943744   71.943744  132079200\n",
       "...                ...         ...         ...         ...        ...\n",
       "2020-12-23  127.919250  129.355105  127.743422  129.091385   88223700\n",
       "2020-12-24  128.905807  130.361217  128.056013  128.270906   54930100\n",
       "2020-12-28  133.516220  134.151122  130.410048  130.878914  124486200\n",
       "2020-12-29  131.738449  135.567429  131.220756  134.844620  121047300\n",
       "2020-12-30  130.615158  132.832455  130.302581  132.431971   96452100\n",
       "\n",
       "[252 rows x 5 columns]"
      ]
     },
     "execution_count": 5,
     "metadata": {},
     "output_type": "execute_result"
    }
   ],
   "source": [
    "aapl.columns = aapl.columns.droplevel(1)\n",
    "aapl"
   ]
  },
  {
   "cell_type": "code",
   "execution_count": 6,
   "id": "ccc56ac4",
   "metadata": {},
   "outputs": [
    {
     "data": {
      "text/plain": [
       "Index(['Close', 'High', 'Low', 'Open', 'Volume'], dtype='object')"
      ]
     },
     "execution_count": 6,
     "metadata": {},
     "output_type": "execute_result"
    }
   ],
   "source": [
    "aapl.columns.name = None\n",
    "aapl.columns"
   ]
  },
  {
   "cell_type": "code",
   "execution_count": 7,
   "id": "7ffae51d",
   "metadata": {},
   "outputs": [
    {
     "data": {
      "application/vnd.microsoft.datawrangler.viewer.v0+json": {
       "columns": [
        {
         "name": "Date",
         "rawType": "datetime64[ns]",
         "type": "datetime"
        },
        {
         "name": "Close",
         "rawType": "float64",
         "type": "float"
        },
        {
         "name": "High",
         "rawType": "float64",
         "type": "float"
        },
        {
         "name": "Low",
         "rawType": "float64",
         "type": "float"
        },
        {
         "name": "Open",
         "rawType": "float64",
         "type": "float"
        },
        {
         "name": "Volume",
         "rawType": "int64",
         "type": "integer"
        }
       ],
       "conversionMethod": "pd.DataFrame",
       "ref": "479abcec-c2b9-4af6-909b-edc3d73ce02f",
       "rows": [
        [
         "2020-01-02 00:00:00",
         "72.716064453125",
         "72.77659055848162",
         "71.4668047519516",
         "71.72101143907315",
         "135480400"
        ],
        [
         "2020-01-03 00:00:00",
         "72.00911712646484",
         "72.77174458511139",
         "71.7839617851537",
         "71.94132818321717",
         "146322800"
        ],
        [
         "2020-01-06 00:00:00",
         "72.58290100097656",
         "72.62163859417052",
         "70.87606782262263",
         "71.12785848416316",
         "118387200"
        ],
        [
         "2020-01-07 00:00:00",
         "72.24156188964844",
         "72.84923913180799",
         "72.0212459184403",
         "72.59260896500349",
         "108872000"
        ],
        [
         "2020-01-08 00:00:00",
         "73.40363311767578",
         "73.70626361557562",
         "71.94374389134458",
         "71.94374389134458",
         "132079200"
        ],
        [
         "2020-01-09 00:00:00",
         "74.96281433105469",
         "75.15649496744561",
         "74.13239770457567",
         "74.38418105419532",
         "170108400"
        ],
        [
         "2020-01-10 00:00:00",
         "75.13225555419922",
         "75.69878635468899",
         "74.62868165074606",
         "75.19762847110803",
         "140644800"
        ],
        [
         "2020-01-13 00:00:00",
         "76.7374267578125",
         "76.76406209011934",
         "75.33080045122755",
         "75.44943665950792",
         "121532000"
        ],
        [
         "2020-01-14 00:00:00",
         "75.70120239257812",
         "76.88509646087522",
         "75.57773417210761",
         "76.67446681398555",
         "161954400"
        ],
        [
         "2020-01-15 00:00:00",
         "75.37680053710938",
         "76.38395596192076",
         "74.94343149157285",
         "75.50027617412253",
         "121923600"
        ],
        [
         "2020-01-16 00:00:00",
         "76.32101440429688",
         "76.4323877854954",
         "75.55838676505513",
         "75.92154348740286",
         "108829200"
        ],
        [
         "2020-01-17 00:00:00",
         "77.16595458984375",
         "77.16837061022176",
         "76.26290232469962",
         "76.57037231867773",
         "137816400"
        ],
        [
         "2020-01-21 00:00:00",
         "76.64299011230469",
         "77.23614144709862",
         "76.50498883390406",
         "76.7930936550816",
         "110843200"
        ],
        [
         "2020-01-22 00:00:00",
         "76.91657257080078",
         "77.47098633963294",
         "76.82214830621916",
         "77.12961824131806",
         "101832400"
        ],
        [
         "2020-01-23 00:00:00",
         "77.2869873046875",
         "77.3668785027068",
         "76.42024944843635",
         "76.96983114393875",
         "104472000"
        ],
        [
         "2020-01-24 00:00:00",
         "77.06426239013672",
         "78.2796239983564",
         "76.87299781703734",
         "77.53394558679635",
         "146537600"
        ],
        [
         "2020-01-27 00:00:00",
         "74.79817199707031",
         "75.48090092368226",
         "73.81280512269632",
         "75.06690438729518",
         "161940000"
        ],
        [
         "2020-01-28 00:00:00",
         "76.91415405273438",
         "77.08604612277858",
         "75.58257973802782",
         "75.68184343719155",
         "162234000"
        ],
        [
         "2020-01-29 00:00:00",
         "78.52415466308594",
         "79.37394362780475",
         "77.80752757594179",
         "78.55078999397739",
         "216229200"
        ],
        [
         "2020-01-30 00:00:00",
         "78.41036224365234",
         "78.46362551493233",
         "77.17078871761717",
         "77.60415772537527",
         "126743200"
        ],
        [
         "2020-01-31 00:00:00",
         "74.93375396728516",
         "78.1222655759737",
         "74.63838622980492",
         "77.69858276990855",
         "199588400"
        ],
        [
         "2020-02-03 00:00:00",
         "74.72796630859375",
         "75.89732764326911",
         "73.16881293673191",
         "73.67238698147514",
         "173788400"
        ],
        [
         "2020-02-04 00:00:00",
         "77.19500732421875",
         "77.3862719133486",
         "75.93122176752728",
         "76.33795548064964",
         "136616400"
        ],
        [
         "2020-02-05 00:00:00",
         "77.82447814941406",
         "78.62584328517734",
         "77.21921702642419",
         "78.32562874403418",
         "118826800"
        ],
        [
         "2020-02-06 00:00:00",
         "78.73477935791016",
         "78.73720276650342",
         "77.53636686633509",
         "78.09562750675829",
         "105425600"
        ],
        [
         "2020-02-07 00:00:00",
         "77.6645736694336",
         "78.48240085764334",
         "77.1719355094332",
         "78.23244174012544",
         "117684000"
        ],
        [
         "2020-02-10 00:00:00",
         "78.033447265625",
         "78.033447265625",
         "76.1648229834898",
         "76.24490381310511",
         "109348800"
        ],
        [
         "2020-02-11 00:00:00",
         "77.56263732910156",
         "78.60373238920275",
         "77.34422769426291",
         "78.53093164624849",
         "94323200"
        ],
        [
         "2020-02-12 00:00:00",
         "79.40459442138672",
         "79.40944533661985",
         "78.01404068842541",
         "78.01404068842541",
         "113730400"
        ],
        [
         "2020-02-13 00:00:00",
         "78.83912658691406",
         "79.16674472243865",
         "78.47025716819051",
         "78.67410664216737",
         "94747600"
        ],
        [
         "2020-02-14 00:00:00",
         "78.8585433959961",
         "79.10850246780329",
         "78.34891601878451",
         "78.80757547409223",
         "80113600"
        ],
        [
         "2020-02-18 00:00:00",
         "77.41460418701172",
         "77.5966134445047",
         "76.34923977828454",
         "76.5312490357775",
         "152531200"
        ],
        [
         "2020-02-19 00:00:00",
         "78.53579711914062",
         "78.76634519119376",
         "77.65730009675248",
         "77.65730009675248",
         "93984000"
        ],
        [
         "2020-02-20 00:00:00",
         "77.7300796508789",
         "78.78573476731503",
         "77.222881436687",
         "78.29552586031969",
         "100566000"
        ],
        [
         "2020-02-21 00:00:00",
         "75.97066497802734",
         "77.76649566805042",
         "75.35183643347615",
         "77.32238890983989",
         "129554000"
        ],
        [
         "2020-02-24 00:00:00",
         "72.36202239990234",
         "73.81809639904387",
         "70.19004979476811",
         "72.13876186738017",
         "222195200"
        ],
        [
         "2020-02-25 00:00:00",
         "69.91096496582031",
         "73.4176795737371",
         "69.43774534651452",
         "73.03425000192122",
         "230673600"
        ],
        [
         "2020-02-26 00:00:00",
         "71.02001190185547",
         "72.28922581008212",
         "69.52753744829661",
         "69.53481752247102",
         "198054800"
        ],
        [
         "2020-02-27 00:00:00",
         "66.37757110595703",
         "69.4062083168437",
         "66.2416714304022",
         "68.21708245275049",
         "320605600"
        ],
        [
         "2020-02-28 00:00:00",
         "66.33873748779297",
         "67.56427105877654",
         "62.21562305087625",
         "62.431610947009084",
         "426510000"
        ],
        [
         "2020-03-02 00:00:00",
         "72.51492309570312",
         "73.15317015362184",
         "67.39682304876307",
         "68.50343887480543",
         "341397200"
        ],
        [
         "2020-03-03 00:00:00",
         "70.2118911743164",
         "73.77441717355254",
         "69.35765634090362",
         "73.69433636090781",
         "319475600"
        ],
        [
         "2020-03-04 00:00:00",
         "73.46864318847656",
         "73.6288122283086",
         "71.13650139150472",
         "71.93976834476976",
         "219178400"
        ],
        [
         "2020-03-05 00:00:00",
         "71.0855484008789",
         "72.69450423193115",
         "70.7191006767236",
         "71.71650798671432",
         "187572800"
        ],
        [
         "2020-03-06 00:00:00",
         "70.14151000976562",
         "70.57590748684923",
         "68.24861680086957",
         "68.43547696188391",
         "226176800"
        ],
        [
         "2020-03-09 00:00:00",
         "64.59388732910156",
         "67.48661751740467",
         "63.824591466108316",
         "64.00660075736148",
         "286744800"
        ],
        [
         "2020-03-10 00:00:00",
         "69.24600982666016",
         "69.51295814947161",
         "65.37042674804029",
         "67.25604690546521",
         "285290000"
        ],
        [
         "2020-03-11 00:00:00",
         "66.8410873413086",
         "68.24620108036899",
         "65.97472137640763",
         "67.31674360006403",
         "255598800"
        ],
        [
         "2020-03-12 00:00:00",
         "60.24021530151367",
         "65.52333888472222",
         "60.18440016078189",
         "62.111272274536645",
         "418474000"
        ],
        [
         "2020-03-13 00:00:00",
         "67.4574966430664",
         "67.93072375869788",
         "61.38566570157223",
         "64.28325788918951",
         "370732000"
        ]
       ],
       "shape": {
        "columns": 5,
        "rows": 252
       }
      },
      "text/html": [
       "<div>\n",
       "<style scoped>\n",
       "    .dataframe tbody tr th:only-of-type {\n",
       "        vertical-align: middle;\n",
       "    }\n",
       "\n",
       "    .dataframe tbody tr th {\n",
       "        vertical-align: top;\n",
       "    }\n",
       "\n",
       "    .dataframe thead th {\n",
       "        text-align: right;\n",
       "    }\n",
       "</style>\n",
       "<table border=\"1\" class=\"dataframe\">\n",
       "  <thead>\n",
       "    <tr style=\"text-align: right;\">\n",
       "      <th></th>\n",
       "      <th>Close</th>\n",
       "      <th>High</th>\n",
       "      <th>Low</th>\n",
       "      <th>Open</th>\n",
       "      <th>Volume</th>\n",
       "    </tr>\n",
       "    <tr>\n",
       "      <th>Date</th>\n",
       "      <th></th>\n",
       "      <th></th>\n",
       "      <th></th>\n",
       "      <th></th>\n",
       "      <th></th>\n",
       "    </tr>\n",
       "  </thead>\n",
       "  <tbody>\n",
       "    <tr>\n",
       "      <th>2020-01-02</th>\n",
       "      <td>72.716064</td>\n",
       "      <td>72.776591</td>\n",
       "      <td>71.466805</td>\n",
       "      <td>71.721011</td>\n",
       "      <td>135480400</td>\n",
       "    </tr>\n",
       "    <tr>\n",
       "      <th>2020-01-03</th>\n",
       "      <td>72.009117</td>\n",
       "      <td>72.771745</td>\n",
       "      <td>71.783962</td>\n",
       "      <td>71.941328</td>\n",
       "      <td>146322800</td>\n",
       "    </tr>\n",
       "    <tr>\n",
       "      <th>2020-01-06</th>\n",
       "      <td>72.582901</td>\n",
       "      <td>72.621639</td>\n",
       "      <td>70.876068</td>\n",
       "      <td>71.127858</td>\n",
       "      <td>118387200</td>\n",
       "    </tr>\n",
       "    <tr>\n",
       "      <th>2020-01-07</th>\n",
       "      <td>72.241562</td>\n",
       "      <td>72.849239</td>\n",
       "      <td>72.021246</td>\n",
       "      <td>72.592609</td>\n",
       "      <td>108872000</td>\n",
       "    </tr>\n",
       "    <tr>\n",
       "      <th>2020-01-08</th>\n",
       "      <td>73.403633</td>\n",
       "      <td>73.706264</td>\n",
       "      <td>71.943744</td>\n",
       "      <td>71.943744</td>\n",
       "      <td>132079200</td>\n",
       "    </tr>\n",
       "    <tr>\n",
       "      <th>...</th>\n",
       "      <td>...</td>\n",
       "      <td>...</td>\n",
       "      <td>...</td>\n",
       "      <td>...</td>\n",
       "      <td>...</td>\n",
       "    </tr>\n",
       "    <tr>\n",
       "      <th>2020-12-23</th>\n",
       "      <td>127.919250</td>\n",
       "      <td>129.355105</td>\n",
       "      <td>127.743422</td>\n",
       "      <td>129.091385</td>\n",
       "      <td>88223700</td>\n",
       "    </tr>\n",
       "    <tr>\n",
       "      <th>2020-12-24</th>\n",
       "      <td>128.905807</td>\n",
       "      <td>130.361217</td>\n",
       "      <td>128.056013</td>\n",
       "      <td>128.270906</td>\n",
       "      <td>54930100</td>\n",
       "    </tr>\n",
       "    <tr>\n",
       "      <th>2020-12-28</th>\n",
       "      <td>133.516220</td>\n",
       "      <td>134.151122</td>\n",
       "      <td>130.410048</td>\n",
       "      <td>130.878914</td>\n",
       "      <td>124486200</td>\n",
       "    </tr>\n",
       "    <tr>\n",
       "      <th>2020-12-29</th>\n",
       "      <td>131.738449</td>\n",
       "      <td>135.567429</td>\n",
       "      <td>131.220756</td>\n",
       "      <td>134.844620</td>\n",
       "      <td>121047300</td>\n",
       "    </tr>\n",
       "    <tr>\n",
       "      <th>2020-12-30</th>\n",
       "      <td>130.615158</td>\n",
       "      <td>132.832455</td>\n",
       "      <td>130.302581</td>\n",
       "      <td>132.431971</td>\n",
       "      <td>96452100</td>\n",
       "    </tr>\n",
       "  </tbody>\n",
       "</table>\n",
       "<p>252 rows × 5 columns</p>\n",
       "</div>"
      ],
      "text/plain": [
       "                 Close        High         Low        Open     Volume\n",
       "Date                                                                 \n",
       "2020-01-02   72.716064   72.776591   71.466805   71.721011  135480400\n",
       "2020-01-03   72.009117   72.771745   71.783962   71.941328  146322800\n",
       "2020-01-06   72.582901   72.621639   70.876068   71.127858  118387200\n",
       "2020-01-07   72.241562   72.849239   72.021246   72.592609  108872000\n",
       "2020-01-08   73.403633   73.706264   71.943744   71.943744  132079200\n",
       "...                ...         ...         ...         ...        ...\n",
       "2020-12-23  127.919250  129.355105  127.743422  129.091385   88223700\n",
       "2020-12-24  128.905807  130.361217  128.056013  128.270906   54930100\n",
       "2020-12-28  133.516220  134.151122  130.410048  130.878914  124486200\n",
       "2020-12-29  131.738449  135.567429  131.220756  134.844620  121047300\n",
       "2020-12-30  130.615158  132.832455  130.302581  132.431971   96452100\n",
       "\n",
       "[252 rows x 5 columns]"
      ]
     },
     "execution_count": 7,
     "metadata": {},
     "output_type": "execute_result"
    }
   ],
   "source": [
    "aapl"
   ]
  },
  {
   "cell_type": "code",
   "execution_count": 8,
   "id": "5446026d",
   "metadata": {},
   "outputs": [],
   "source": [
    "import matplotlib.pyplot as plt"
   ]
  },
  {
   "cell_type": "code",
   "execution_count": 9,
   "id": "dd88bde5",
   "metadata": {},
   "outputs": [
    {
     "data": {
      "text/plain": [
       "<Axes: xlabel='Date'>"
      ]
     },
     "execution_count": 9,
     "metadata": {},
     "output_type": "execute_result"
    },
    {
     "data": {
      "image/png": "[encoded data removed]",
      "text/plain": [
       "<Figure size 640x480 with 1 Axes>"
      ]
     },
     "metadata": {},
     "output_type": "display_data"
    }
   ],
   "source": [
    "aapl.loc[\"2020-01-01\":\"2020-01-31\", \"Close\"].plot()"
   ]
  },
  {
   "cell_type": "markdown",
   "id": "ca62ac9b",
   "metadata": {},
   "source": [
    "## Converting to a function"
   ]
  },
  {
   "cell_type": "code",
   "execution_count": 15,
   "id": "2bdfb8d4",
   "metadata": {},
   "outputs": [],
   "source": [
    "ticker = \"AAPL\"\n",
    "start_date = \"2020-01-01\"\n",
    "end_date = \"2020-12-31\"\n",
    "interval = \"1d\"\n",
    "\n",
    "def get_yfin_data(ticker, start_date, end_date, interval):\n",
    "    return (\n",
    "    yf.download(ticker, \n",
    "                start=start_date, \n",
    "                end=end_date, \n",
    "                interval=interval)\n",
    "    .pipe(lambda x: x.set_axis(x.columns.droplevel(1), axis=1))\n",
    "    .pipe(lambda x: x.rename_axis(None, axis=1))\n",
    " )"
   ]
  },
  {
   "cell_type": "code",
   "execution_count": 21,
   "id": "754c0291",
   "metadata": {},
   "outputs": [
    {
     "name": "stderr",
     "output_type": "stream",
     "text": [
      "[*********************100%***********************]  1 of 1 completed"
     ]
    },
    {
     "name": "stderr",
     "output_type": "stream",
     "text": [
      "\n"
     ]
    },
    {
     "data": {
      "text/plain": [
       "<Axes: xlabel='Date'>"
      ]
     },
     "execution_count": 21,
     "metadata": {},
     "output_type": "execute_result"
    },
    {
     "data": {
      "image/png": "[encoded data removed]",
      "text/plain": [
       "<Figure size 640x480 with 1 Axes>"
      ]
     },
     "metadata": {},
     "output_type": "display_data"
    }
   ],
   "source": [
    "get_yfin_data(ticker=\"TSLA\", start_date=\"2025-04-01\", end_date=\"2025-04-20\", interval=\"1d\").loc[:,\"Close\"].plot()"
   ]
  },
  {
   "cell_type": "code",
   "execution_count": null,
   "id": "c9b22204",
   "metadata": {},
   "outputs": [],
   "source": []
  }
 ],
 "metadata": {
  "kernelspec": {
   "display_name": ".venv",
   "language": "python",
   "name": "python3"
  },
  "language_info": {
   "codemirror_mode": {
    "name": "ipython",
    "version": 3
   },
   "file_extension": ".py",
   "mimetype": "text/x-python",
   "name": "python",
   "nbconvert_exporter": "python",
   "pygments_lexer": "ipython3",
   "version": "3.10.16"
  }
 },
 "nbformat": 4,
 "nbformat_minor": 5
}
